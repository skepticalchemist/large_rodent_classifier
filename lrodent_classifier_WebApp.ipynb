{
  "cells": [
    {
      "cell_type": "code",
      "execution_count": 3,
      "metadata": {
        "id": "hSPaI3-4E1Ic"
      },
      "outputs": [],
      "source": [
        "from fastai.vision.all import *\n",
        "from fastai.vision.widgets import *"
      ]
    },
    {
      "cell_type": "markdown",
      "source": [
        "# Large rodent classifier\n",
        "\n",
        "## Predicting whether an image contains a paca, an agouti or a capybara\n",
        "\n",
        "* Load an image of the potentially large rodent, click upload and then click classify.\n",
        "\n",
        "\n",
        "**Interesting Facts about Pacas, Agoutis, and Capybaras:**\n",
        "\n",
        "* These herbivorous rodents typically dwell near water sources.\n",
        "* They share similar lifespans, ranging from 14 to 16 years.\n",
        "* While pacas are solitary animals, agoutis live in small groups, and capybaras form large social groups.\n",
        "* All three species contribute to seed dispersal by burying and forgetting food sources."
      ],
      "metadata": {
        "id": "ZDFCdOM0Wn8d"
      }
    },
    {
      "cell_type": "code",
      "execution_count": 5,
      "metadata": {
        "id": "ORkAwY4MlJgH"
      },
      "outputs": [],
      "source": [
        "path = Path()\n",
        "learn_inf = load_learner(path/'export.pkl')"
      ]
    },
    {
      "cell_type": "code",
      "execution_count": 7,
      "metadata": {
        "id": "1_AZPju9maLi"
      },
      "outputs": [],
      "source": [
        "upload_button = widgets.FileUpload()\n",
        "output_button = widgets.Output()\n",
        "label_pred = widgets.Label()\n",
        "\n",
        "def on_click_classify(change):\n",
        "  img = PILImage.create(upload_button.data[-1])\n",
        "  output_button.clear_output()\n",
        "  with output_button:\n",
        "      display(img.to_thumb(128,128))\n",
        "  pred, pred_idx, probs = learn_inf.predict(img)\n",
        "  label_pred.value = f'Prediction: {pred}, Probability: {probs[pred_idx]:.04f}'\n",
        "\n",
        " upload_button.observe(on_click_classify, names=['data'])\n",
        "\n",
        "display(VBox([widgets.Label('Select your large rodent!'),\n",
        "      upload_button, output_button, label_pred\n",
        "      ]\n",
        "     ))"
      ]
    }
  ],
  "metadata": {
    "accelerator": "GPU",
    "colab": {
      "gpuType": "T4",
      "provenance": [],
      "authorship_tag": "ABX9TyMgJRtL0r6OKQoxQFWqKl99"
    },
    "kernelspec": {
      "display_name": "Python 3",
      "name": "python3"
    },
    "language_info": {
      "name": "python"
    }
  },
  "nbformat": 4,
  "nbformat_minor": 0
}